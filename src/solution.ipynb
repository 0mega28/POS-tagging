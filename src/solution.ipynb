{
 "metadata": {
  "language_info": {
   "codemirror_mode": {
    "name": "ipython",
    "version": 3
   },
   "file_extension": ".py",
   "mimetype": "text/x-python",
   "name": "python",
   "nbconvert_exporter": "python",
   "pygments_lexer": "ipython3",
   "version": "3.8.5-final"
  },
  "orig_nbformat": 2,
  "kernelspec": {
   "name": "python3",
   "display_name": "Python 3"
  }
 },
 "nbformat": 4,
 "nbformat_minor": 2,
 "cells": [
  {
   "source": [
    "import os\n",
    "import xml.etree.ElementTree as ET\n",
    "\n",
    "file_append = []\n",
    "\n",
    "for subdir, dirs, files in os.walk(r'../Train-corpus'):\n",
    "    for filename in files:\n",
    "        filepath = subdir + os.sep + filename\n",
    "        mytree = ET.parse(filepath)\n",
    "        root = mytree.getroot()\n",
    "\n",
    "        # Handled mw tags\n",
    "        for element in root.iter('mw'):\n",
    "            mw_words = \"\"\n",
    "\n",
    "        # strip the text field\n",
    "            for words in element.iter('w'):\n",
    "                mw_words += words.text\n",
    "            tag = element.attrib.get('c5')\n",
    "            file_append.append(mw_words.strip() + \"_\" + tag)\n",
    "\n",
    "        # Handled w tags\n",
    "        for element in root.iter('w'):\n",
    "            word = element.text\n",
    "            tag = element.attrib.get('c5')\n",
    "            tag_list = tag.split('-')\n",
    "            for tags in tag_list:\n",
    "                file_append.append(word.strip() + \"_\" + tags)\n",
    "\n",
    "        # Handled c tags\n",
    "        for element in root.iter('c'):\n",
    "            file_append.append(element.text.strip() + \"_\" + element.attrib.get('c5'))\n",
    "\n",
    "# mw tags i.e. multiword there are tags init\n",
    "# c tags i.e. puctuations\n",
    "# if tag1-tag2 then word_tag1, word_tag2\n",
    "# Handle the spacing \n",
    "# Don't take words from hw tags"
   ],
   "cell_type": "code",
   "metadata": {},
   "execution_count": 17,
   "outputs": []
  },
  {
   "cell_type": "code",
   "execution_count": 18,
   "metadata": {},
   "outputs": [],
   "source": [
    "myDict = {}\n",
    "\n",
    "for word in file_append:\n",
    "    if (word in myDict):\n",
    "        myDict[word] += 1\n",
    "    else:\n",
    "        myDict[word] = 1\n"
   ]
  },
  {
   "cell_type": "code",
   "execution_count": 19,
   "metadata": {},
   "outputs": [],
   "source": [
    "import operator\n",
    "\n",
    "word_dict = {}\n",
    "tag_dict = {}\n",
    "\n",
    "for element in file_append:\n",
    "    temp = element.split(\"_\")\n",
    "    word = temp[0].strip()\n",
    "    tag = temp[1]\n",
    "\n",
    "    if (word in word_dict):\n",
    "        word_dict[word] += 1\n",
    "    else: \n",
    "        word_dict[word] = 1\n",
    "\n",
    "    if (tag in tag_dict):\n",
    "        tag_dict[tag] += 1\n",
    "    else: \n",
    "        tag_dict[tag] = 1\n",
    "\n",
    "word_dict_ordered = dict( sorted(word_dict.items(), key=operator.itemgetter(1),reverse=True))\n",
    "tag_dict_ordered = dict( sorted(tag_dict.items(), key=operator.itemgetter(1),reverse=True))"
   ]
  },
  {
   "source": [
    "probability_of_word_given_tag = {}\n",
    "\n",
    "# P(Word|Tag) = P(Word_Tag)/P(Tag) = Count(Word_Tag)/Count(Tag)\n",
    "\n",
    "for word in word_dict.keys():\n",
    "    for tag in tag_dict.keys():\n",
    "        temp = word+\"_\"+tag\n",
    "        temp1 = word+\"|\"+tag\n",
    "        if (temp in myDict):\n",
    "            probability_of_word_given_tag[temp1] = myDict[temp] / tag_dict[tag]\n",
    "        else:\n",
    "            probability_of_word_given_tag[temp1] = 0"
   ],
   "cell_type": "code",
   "metadata": {},
   "execution_count": 20,
   "outputs": []
  },
  {
   "cell_type": "code",
   "execution_count": 21,
   "metadata": {},
   "outputs": [],
   "source": [
    "def predict( word ):\n",
    "    \n",
    "    if word not in word_dict:\n",
    "        return \"UNC\"\n",
    "    mx_p = -1\n",
    "    tag_gen = \"\"\n",
    "    for tags in tag_dict.keys():\n",
    "        word_given_tag = word + \"|\" + tags\n",
    "        P = 0\n",
    "        if word in word_dict:\n",
    "            P = (float(probability_of_word_given_tag[word_given_tag]) * int(\n",
    "                tag_dict[tags])) / int(word_dict[word])\n",
    "        if P > mx_p:\n",
    "            mx_p = P\n",
    "            tag_gen = tags\n",
    "    return tag_gen\n"
   ]
  },
  {
   "cell_type": "code",
   "execution_count": 22,
   "metadata": {},
   "outputs": [
    {
     "output_type": "stream",
     "name": "stdout",
     "text": [
      "../Test-corpus/AS/ASK.xml\n"
     ]
    }
   ],
   "source": [
    "import glob\n",
    "test_files = glob.glob(\"../Test-corpus/*/*.xml\")\n",
    "print(test_files[0])"
   ]
  },
  {
   "cell_type": "code",
   "execution_count": 23,
   "metadata": {
    "tags": []
   },
   "outputs": [
    {
     "output_type": "stream",
     "name": "stdout",
     "text": [
      "\n",
      "3289953 3630025\n",
      "0.9063168986439487\n"
     ]
    }
   ],
   "source": [
    "ref = []\n",
    "tagged = []\n",
    "\n",
    "correct = 0\n",
    "total = 0\n",
    "mw_correct = 0\n",
    "mw_total = 0\n",
    "p_correct = 0\n",
    "p_total = 0\n",
    "\n",
    "for test_file in test_files:\n",
    "    mytree1 = ET.parse(test_file)\n",
    "    root1 = mytree1.getroot()\n",
    "\n",
    "    \"\"\"Normal words tag\"\"\"\n",
    "    for element in root1.iter('w'):\n",
    "        word = element.text.strip()\n",
    "        tag = element.attrib.get('c5')\n",
    "\n",
    "        tag_gen = predict(word)\n",
    "        if tag == tag_gen:\n",
    "            correct += 1\n",
    "\n",
    "        if tag.find('-') != -1:\n",
    "            if tag.split('-')[0] == tag_gen or tag.split('-')[1] == tag_gen:\n",
    "                correct += 1\n",
    "                ref.append(tag_gen)\n",
    "            else:\n",
    "                ref.append(tag)\n",
    "        else:\n",
    "            ref.append(tag)\n",
    "        total += 1\n",
    "        tagged.append(tag_gen)\n",
    "\n",
    "\n",
    "    \"\"\"Multi-words\"\"\"\n",
    "    for element in root1.iter(\"mw\"):\n",
    "        word = \"\"\n",
    "        for word_mw in element.iter('w'):\n",
    "            word += word_mw.text\n",
    "        if word[-1] == \" \":\n",
    "            word = word[0:-1]\n",
    "        tag = element.attrib.get('c5')\n",
    "        tag_gen = predict(word)\n",
    "        if tag == tag_gen:\n",
    "            mw_correct += 1\n",
    "\n",
    "        if tag.find('-') != -1:\n",
    "            if tag.split('-')[0] == tag_gen or tag.split('-')[1] == tag_gen:\n",
    "                mw_correct += 1\n",
    "                ref.append(tag_gen)\n",
    "            else:\n",
    "                ref.append(tag)\n",
    "        else:\n",
    "            ref.append(tag)\n",
    "        mw_total += 1\n",
    "        tagged.append(tag_gen)\n",
    "\n",
    "    \"\"\"Punctuations\"\"\"\n",
    "    for element in root1.iter(\"c\"):\n",
    "        try:\n",
    "            word = element.text.strip()\n",
    "            tag = element.attrib.get('c5')\n",
    "            tag_gen = predict(word)\n",
    "            if tag == tag_gen:\n",
    "                p_correct += 1\n",
    "\n",
    "            if tag.find('-') != -1:\n",
    "                if tag.split('-')[0] == tag_gen or tag.split('-')[1] == tag_gen:\n",
    "                    p_correct += 1\n",
    "                    ref.append(tag_gen)\n",
    "                else:\n",
    "                    ref.append(tag)\n",
    "            else:\n",
    "                ref.append(tag)\n",
    "            p_total += 1\n",
    "            tagged.append(tag_gen)\n",
    "        except:\n",
    "            print(\"\")\n",
    "\n",
    "print(correct,total)\n",
    "print(correct/total)\n",
    "\n",
    "# Correct words: 3818421\n",
    "# Total words: 4159247\n",
    "# 0.9180558403961102"
   ]
  },
  {
   "cell_type": "code",
   "execution_count": 27,
   "metadata": {
    "tags": []
   },
   "outputs": [],
   "source": [
    "from nltk.metrics import ConfusionMatrix\n",
    "import sys \n",
    "\n",
    "stdoutOrigin=sys.stdout \n",
    "sys.stdout = open(\"log.txt\", \"w\")\n",
    "cm = ConfusionMatrix(ref, tagged)\n",
    "print(cm)\n",
    "sys.stdout.close()\n",
    "sys.stdout=stdoutOrigin"
   ]
  },
  {
   "cell_type": "code",
   "execution_count": null,
   "metadata": {},
   "outputs": [],
   "source": []
  }
 ]
}